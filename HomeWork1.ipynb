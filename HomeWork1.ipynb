{
 "cells": [
  {
   "cell_type": "code",
   "execution_count": 1,
   "metadata": {},
   "outputs": [],
   "source": [
    "import nltk\n"
   ]
  },
  {
   "cell_type": "code",
   "execution_count": 2,
   "metadata": {},
   "outputs": [],
   "source": [
    "f = open('class_11_biology_chapter_1_0.txt', 'r')"
   ]
  },
  {
   "cell_type": "code",
   "execution_count": 3,
   "metadata": {},
   "outputs": [
    {
     "name": "stdout",
     "output_type": "stream",
     "text": [
      "Chapter 1\n",
      "The Living World\n",
      "\n",
      "Chapter 2\n",
      "Biological Classification\n",
      "\n",
      "Chapter 3\n",
      "Plant Kingdom\n",
      "\n",
      "Chapter 4\n",
      "Animal Kingdom\n",
      "\n",
      " \n",
      "\n",
      "UNIT I\n",
      "\n",
      "DIVERSITY IN THE LIVING WORLD\n",
      "\n",
      "Biology is the science of life forms and living processes. The living world\n",
      "comprises an amazing diversity of living organisms. Early man could\n",
      "easily perceive the difference between inanimate matter and living\n",
      "organisms. Early man deified some of the inanimate matter (wind, sea,\n",
      "fire etc.) and some among the animals and plants. A common feature of\n",
      "all such forms of inanimate and animate objects was the sense of awe\n",
      "or fear that they evoked. The description of living organisms including\n",
      "human beings began much later in human history. Societies which\n",
      "indulged in anthropocentric view of biology could register limited\n",
      "progress in biological knowledge. Systematic and monumental\n",
      "description of life forms brought in, out of necessity, detailed systems\n",
      "of identification, nomenclature and classification. The biggest spin off\n",
      "of such studies was the recognition of the sharing of similarities among\n",
      "living organisms both horizontally and vertically. That all present day\n",
      "living organisms are related to each other and also to all organisms\n",
      "that ever lived on this earth, was a revelation which humbled man and\n",
      "led to cultural movements for conservation of biodiversity. In the\n",
      "following chapters of this unit, you will get a description, including\n",
      "classification, of animals and plants from a taxonomistвЂ™s perspective.\n",
      "\n",
      "2019-2020\n"
     ]
    }
   ],
   "source": [
    "str = f.read()\n",
    "print(str)"
   ]
  },
  {
   "cell_type": "code",
   "execution_count": 4,
   "metadata": {},
   "outputs": [
    {
     "name": "stdout",
     "output_type": "stream",
     "text": [
      "chapter 1\n",
      "the living world\n",
      "\n",
      "chapter 2\n",
      "biological classification\n",
      "\n",
      "chapter 3\n",
      "plant kingdom\n",
      "\n",
      "chapter 4\n",
      "animal kingdom\n",
      "\n",
      " \n",
      "\n",
      "unit i\n",
      "\n",
      "diversity in the living world\n",
      "\n",
      "biology is the science of life forms and living processes. the living world\n",
      "comprises an amazing diversity of living organisms. early man could\n",
      "easily perceive the difference between inanimate matter and living\n",
      "organisms. early man deified some of the inanimate matter (wind, sea,\n",
      "fire etc.) and some among the animals and plants. a common feature of\n",
      "all such forms of inanimate and animate objects was the sense of awe\n",
      "or fear that they evoked. the description of living organisms including\n",
      "human beings began much later in human history. societies which\n",
      "indulged in anthropocentric view of biology could register limited\n",
      "progress in biological knowledge. systematic and monumental\n",
      "description of life forms brought in, out of necessity, detailed systems\n",
      "of identification, nomenclature and classification. the biggest spin off\n",
      "of such studies was the recognition of the sharing of similarities among\n",
      "living organisms both horizontally and vertically. that all present day\n",
      "living organisms are related to each other and also to all organisms\n",
      "that ever lived on this earth, was a revelation which humbled man and\n",
      "led to cultural movements for conservation of biodiversity. in the\n",
      "following chapters of this unit, you will get a description, including\n",
      "classification, of animals and plants from a taxonomistвђ™s perspective.\n",
      "\n",
      "2019-2020\n"
     ]
    }
   ],
   "source": [
    "\n",
    "str = str.lower()\n",
    "print(str)\n"
   ]
  },
  {
   "cell_type": "code",
   "execution_count": 5,
   "metadata": {},
   "outputs": [
    {
     "name": "stderr",
     "output_type": "stream",
     "text": [
      "[nltk_data] Downloading package punkt to\n",
      "[nltk_data]     C:\\Users\\Msi\\AppData\\Roaming\\nltk_data...\n",
      "[nltk_data]   Package punkt is already up-to-date!\n"
     ]
    },
    {
     "data": {
      "text/plain": [
       "True"
      ]
     },
     "execution_count": 5,
     "metadata": {},
     "output_type": "execute_result"
    }
   ],
   "source": [
    "import nltk\n",
    "from nltk.tokenize import word_tokenize\n",
    "nltk.download('punkt')\n"
   ]
  },
  {
   "cell_type": "code",
   "execution_count": 6,
   "metadata": {},
   "outputs": [],
   "source": [
    "from nltk.tokenize import sent_tokenize"
   ]
  },
  {
   "cell_type": "code",
   "execution_count": 7,
   "metadata": {},
   "outputs": [],
   "source": [
    "NumberOfSent = len(sent_tokenize(str))"
   ]
  },
  {
   "cell_type": "code",
   "execution_count": 8,
   "metadata": {},
   "outputs": [
    {
     "name": "stdout",
     "output_type": "stream",
     "text": [
      "13\n"
     ]
    }
   ],
   "source": [
    "print(NumberOfSent)"
   ]
  },
  {
   "cell_type": "code",
   "execution_count": 9,
   "metadata": {},
   "outputs": [],
   "source": [
    "from nltk.tokenize import  word_tokenize"
   ]
  },
  {
   "cell_type": "code",
   "execution_count": 10,
   "metadata": {},
   "outputs": [],
   "source": [
    "NumberOfWords = len(word_tokenize(str))"
   ]
  },
  {
   "cell_type": "code",
   "execution_count": 11,
   "metadata": {},
   "outputs": [
    {
     "name": "stdout",
     "output_type": "stream",
     "text": [
      "251\n"
     ]
    }
   ],
   "source": [
    "print(NumberOfWords)"
   ]
  },
  {
   "cell_type": "code",
   "execution_count": 12,
   "metadata": {},
   "outputs": [],
   "source": [
    "from nltk.tokenize import  casual_tokenize\n"
   ]
  },
  {
   "cell_type": "code",
   "execution_count": 13,
   "metadata": {},
   "outputs": [],
   "source": [
    "NumberOfCasualWords = len(casual_tokenize(str))"
   ]
  },
  {
   "cell_type": "code",
   "execution_count": 14,
   "metadata": {},
   "outputs": [
    {
     "name": "stdout",
     "output_type": "stream",
     "text": [
      "253\n"
     ]
    }
   ],
   "source": [
    "print(NumberOfCasualWords)"
   ]
  },
  {
   "cell_type": "code",
   "execution_count": 15,
   "metadata": {},
   "outputs": [],
   "source": [
    "from nltk.tokenize import MWETokenizer"
   ]
  },
  {
   "cell_type": "code",
   "execution_count": 16,
   "metadata": {},
   "outputs": [],
   "source": [
    "tk = MWETokenizer([('Chapter','4'),(' ','  ')])\n",
    "NumberOfMWE = len(tk.tokenize(str))"
   ]
  },
  {
   "cell_type": "code",
   "execution_count": 17,
   "metadata": {},
   "outputs": [
    {
     "name": "stdout",
     "output_type": "stream",
     "text": [
      "1492\n"
     ]
    }
   ],
   "source": [
    "print(NumberOfMWE)"
   ]
  },
  {
   "cell_type": "code",
   "execution_count": 18,
   "metadata": {},
   "outputs": [],
   "source": [
    "MeanvalueWME = NumberOfMWE/NumberOfSent\n",
    "MeanvalueWords = NumberOfWords/NumberOfSent\n",
    "MeanvalueCasual = NumberOfCasualWords/NumberOfSent"
   ]
  },
  {
   "cell_type": "code",
   "execution_count": 19,
   "metadata": {},
   "outputs": [
    {
     "name": "stdout",
     "output_type": "stream",
     "text": [
      "114.76923076923077 19.307692307692307 19.46153846153846\n"
     ]
    }
   ],
   "source": [
    "print(MeanvalueWME,MeanvalueWords,MeanvalueCasual)"
   ]
  },
  {
   "cell_type": "code",
   "execution_count": 20,
   "metadata": {},
   "outputs": [],
   "source": [
    "Words = word_tokenize(str)\n",
    "CasualWords = casual_tokenize(str)\n"
   ]
  },
  {
   "cell_type": "code",
   "execution_count": 21,
   "metadata": {},
   "outputs": [
    {
     "name": "stdout",
     "output_type": "stream",
     "text": [
      "{'progress', 'between', 'including', 'nomenclature', 'plants', 'to', 'life', 'some', 'also', 'difference', 'early', 'on', 'deified', 'cultural', 'biodiversity', 'i', 'chapter', 'anthropocentric', 'conservation', 'amazing', 'or', 'easily', '(', 'such', 'systems', 'from', ',', 'biggest', 'man', 'fear', 'are', 'plant', 'evoked', 'societies', 'among', 'view', 'diversity', 'an', 'animate', 'comprises', 'description', 'forms', 'processes', 'in', '4', 'other', 'animals', 'world', 'beings', 'off', 'began', 'revelation', 'studies', 'lived', 'history', 'could', 'taxonomistвђ™s', '2019-2020', '.', 'unit', 'feature', 'for', 'the', 'animal', 'get', 'similarities', 'humbled', '3', 'classification', 'perspective', 'objects', 'recognition', 'out', 'kingdom', 'spin', 'vertically', 'sense', '2', 'etc', 'which', 'sharing', '1', 'identification', 'each', 'horizontally', 'led', 'earth', 'inanimate', 'fire', 'wind', 'biological', 'awe', 'register', ')', 'detailed', 'living', 'you', 'present', 'later', 'common', 'brought', 'science', 'necessity', 'both', 'is', 'chapters', 'this', 'perceive', 'biology', 'and', 'was', 'following', 'ever', 'all', 'much', 'systematic', 'movements', 'sea', 'will', 'they', 'indulged', 'human', 'that', 'day', 'monumental', 'organisms', 'of', 'matter', 'knowledge', 'related', 'a', 'limited'}\n",
      "{'progress', 'between', 'including', 'nomenclature', 'plants', 'to', 'life', 'some', 'also', 'difference', 'early', 'on', 'deified', 'cultural', 'biodiversity', 'i', 'chapter', 'anthropocentric', 'conservation', 'amazing', 'or', 'easily', '(', 'such', 'systems', 'from', ',', 'biggest', 'man', 'fear', 'are', 'plant', 'evoked', 'societies', 'among', 'taxonomistвђ', 'view', 'diversity', 'an', 'animate', 'comprises', 'description', 'forms', 'processes', 'in', '4', 'other', 'animals', 'world', 'beings', 'off', 'began', 'revelation', 'studies', 'lived', 'history', 'could', '2019-2020', '.', 'unit', 'feature', 'for', 'the', 'animal', 'get', 'similarities', 'humbled', '3', 'classification', 'perspective', 'objects', 'recognition', 'out', 'kingdom', 'spin', 'vertically', 'sense', '2', 'etc', 'which', 'sharing', '1', 'identification', 'each', 'horizontally', 'led', 'earth', 'inanimate', 'fire', 'wind', 'biological', 'awe', 'register', 's', ')', 'detailed', 'living', 'you', 'present', 'later', 'common', 'brought', 'science', 'necessity', 'both', 'is', 'chapters', 'this', 'perceive', '™', 'biology', 'and', 'was', 'following', 'ever', 'all', 'much', 'systematic', 'movements', 'sea', 'will', 'they', 'indulged', 'human', 'that', 'day', 'monumental', 'organisms', 'of', 'matter', 'knowledge', 'related', 'a', 'limited'}\n"
     ]
    }
   ],
   "source": [
    "SetWords = set(Words)\n",
    "SetCasualWords = set(CasualWords)\n",
    "print (SetWords)\n",
    "print (SetCasualWords)"
   ]
  },
  {
   "cell_type": "code",
   "execution_count": 22,
   "metadata": {},
   "outputs": [
    {
     "name": "stdout",
     "output_type": "stream",
     "text": [
      "{'progress', 'between', 'including', 'nomenclature', 'plants', 'to', 'life', 'some', 'also', 'difference', 'early', 'on', 'deified', 'cultural', 'biodiversity', 'i', 'chapter', 'anthropocentric', 'conservation', 'amazing', 'or', 'easily', '(', 'such', 'systems', 'from', ',', 'biggest', 'man', 'fear', 'are', 'plant', 'evoked', 'societies', 'among', 'view', 'diversity', 'an', 'animate', 'comprises', 'description', 'forms', 'processes', 'in', '4', 'other', 'animals', 'world', 'beings', 'off', 'began', 'revelation', 'studies', 'lived', 'history', 'could', 'taxonomistвђ™s', '2019-2020', '.', 'unit', 'feature', 'for', 'the', 'animal', 'get', 'similarities', 'humbled', '3', 'classification', 'perspective', 'objects', 'recognition', 'out', 'kingdom', 'spin', 'vertically', 'sense', '2', 'etc', 'which', 'sharing', '1', 'identification', 'each', 'horizontally', 'led', 'earth', 'inanimate', 'fire', 'wind', 'biological', 'awe', 'register', ')', 'detailed', 'living', 'you', 'present', 'later', 'common', 'brought', 'science', 'necessity', 'both', 'is', 'chapters', 'this', 'perceive', 'biology', 'and', 'was', 'following', 'ever', 'all', 'much', 'systematic', 'movements', 'sea', 'will', 'they', 'indulged', 'human', 'that', 'day', 'monumental', 'organisms', 'of', 'matter', 'knowledge', 'related', 'a', 'limited'}\n"
     ]
    }
   ],
   "source": [
    "SetWords.union(SetCasualWords) \n",
    "print (SetWords)\n"
   ]
  },
  {
   "cell_type": "code",
   "execution_count": 23,
   "metadata": {},
   "outputs": [],
   "source": [
    "import pandas as pd\n",
    "from nltk.stem import PorterStemmer\n",
    "from nltk.stem import LancasterStemmer\n",
    "from nltk.stem import SnowballStemmer"
   ]
  },
  {
   "cell_type": "code",
   "execution_count": 24,
   "metadata": {},
   "outputs": [],
   "source": [
    "stemmer =  {'Porter': [],'Lancaster': [],'Snowball': []}\n",
    "Porter = PorterStemmer()\n",
    "        "
   ]
  },
  {
   "cell_type": "code",
   "execution_count": 25,
   "metadata": {},
   "outputs": [
    {
     "name": "stderr",
     "output_type": "stream",
     "text": [
      "[nltk_data] Downloading package wordnet to\n",
      "[nltk_data]     C:\\Users\\Msi\\AppData\\Roaming\\nltk_data...\n",
      "[nltk_data]   Package wordnet is already up-to-date!\n"
     ]
    },
    {
     "data": {
      "text/plain": [
       "True"
      ]
     },
     "execution_count": 25,
     "metadata": {},
     "output_type": "execute_result"
    }
   ],
   "source": [
    " nltk.download('wordnet')"
   ]
  },
  {
   "cell_type": "code",
   "execution_count": 26,
   "metadata": {},
   "outputs": [
    {
     "name": "stdout",
     "output_type": "stream",
     "text": [
      "{'progress', 'between', 'including', 'nomenclature', 'plants', 'to', 'life', 'some', 'also', 'difference', 'early', 'on', 'deified', 'cultural', 'biodiversity', 'i', 'chapter', 'anthropocentric', 'conservation', 'amazing', 'or', 'easily', '(', 'such', 'systems', 'from', ',', 'biggest', 'man', 'fear', 'are', 'plant', 'evoked', 'societies', 'among', 'view', 'diversity', 'an', 'animate', 'comprises', 'description', 'forms', 'processes', 'in', '4', 'other', 'animals', 'world', 'beings', 'off', 'began', 'revelation', 'studies', 'lived', 'history', 'could', 'taxonomistвђ™s', '2019-2020', '.', 'unit', 'feature', 'for', 'the', 'animal', 'get', 'similarities', 'humbled', '3', 'classification', 'perspective', 'objects', 'recognition', 'out', 'kingdom', 'spin', 'vertically', 'sense', '2', 'etc', 'which', 'sharing', '1', 'identification', 'each', 'horizontally', 'led', 'earth', 'inanimate', 'fire', 'wind', 'biological', 'awe', 'register', ')', 'detailed', 'living', 'you', 'present', 'later', 'common', 'brought', 'science', 'necessity', 'both', 'is', 'chapters', 'this', 'perceive', 'biology', 'and', 'was', 'following', 'ever', 'all', 'much', 'systematic', 'movements', 'sea', 'will', 'they', 'indulged', 'human', 'that', 'day', 'monumental', 'organisms', 'of', 'matter', 'knowledge', 'related', 'a', 'limited'}\n"
     ]
    }
   ],
   "source": [
    "print (SetWords)"
   ]
  },
  {
   "cell_type": "code",
   "execution_count": 27,
   "metadata": {},
   "outputs": [],
   "source": [
    "for i in  SetWords:\n",
    "    stemmer[\"Porter\"].append(Porter.stem(i))\n",
    "\n",
    "    \n",
    "    "
   ]
  },
  {
   "cell_type": "code",
   "execution_count": 28,
   "metadata": {},
   "outputs": [
    {
     "name": "stdout",
     "output_type": "stream",
     "text": [
      "['progress', 'between', 'includ', 'nomenclatur', 'plant', 'to', 'life', 'some', 'also', 'differ', 'earli', 'on', 'deifi', 'cultur', 'biodivers', 'i', 'chapter', 'anthropocentr', 'conserv', 'amaz', 'or', 'easili', '(', 'such', 'system', 'from', ',', 'biggest', 'man', 'fear', 'are', 'plant', 'evok', 'societi', 'among', 'view', 'divers', 'an', 'anim', 'compris', 'descript', 'form', 'process', 'in', '4', 'other', 'anim', 'world', 'be', 'off', 'began', 'revel', 'studi', 'live', 'histori', 'could', 'taxonomistвђ™', '2019-2020', '.', 'unit', 'featur', 'for', 'the', 'anim', 'get', 'similar', 'humbl', '3', 'classif', 'perspect', 'object', 'recognit', 'out', 'kingdom', 'spin', 'vertic', 'sens', '2', 'etc', 'which', 'share', '1', 'identif', 'each', 'horizont', 'led', 'earth', 'inanim', 'fire', 'wind', 'biolog', 'awe', 'regist', ')', 'detail', 'live', 'you', 'present', 'later', 'common', 'brought', 'scienc', 'necess', 'both', 'is', 'chapter', 'thi', 'perceiv', 'biolog', 'and', 'wa', 'follow', 'ever', 'all', 'much', 'systemat', 'movement', 'sea', 'will', 'they', 'indulg', 'human', 'that', 'day', 'monument', 'organ', 'of', 'matter', 'knowledg', 'relat', 'a', 'limit']\n"
     ]
    }
   ],
   "source": [
    "print (stemmer[\"Porter\"])"
   ]
  },
  {
   "cell_type": "code",
   "execution_count": 29,
   "metadata": {},
   "outputs": [],
   "source": [
    "Lancaster = LancasterStemmer()"
   ]
  },
  {
   "cell_type": "code",
   "execution_count": 30,
   "metadata": {},
   "outputs": [
    {
     "name": "stdout",
     "output_type": "stream",
     "text": [
      "['progress', 'between', 'includ', 'nomenc', 'plant', 'to', 'lif', 'som', 'also', 'diff', 'ear', 'on', 'deify', 'cult', 'biodivers', 'i', 'chapt', 'anthropoc', 'conserv', 'amaz', 'or', 'easy', '(', 'such', 'system', 'from', ',', 'biggest', 'man', 'fear', 'ar', 'plant', 'evok', 'socy', 'among', 'view', 'divers', 'an', 'anim', 'compr', 'describ', 'form', 'process', 'in', '4', 'oth', 'anim', 'world', 'being', 'off', 'beg', 'revel', 'study', 'liv', 'hist', 'could', 'taxonomistвђ™s', '2019-2020', '.', 'unit', 'feat', 'for', 'the', 'anim', 'get', 'simil', 'humbl', '3', 'class', 'perspect', 'object', 'recognit', 'out', 'kingdom', 'spin', 'vert', 'sens', '2', 'etc', 'which', 'shar', '1', 'id', 'each', 'horizont', 'led', 'ear', 'inanim', 'fir', 'wind', 'biolog', 'aw', 'reg', ')', 'detail', 'liv', 'you', 'pres', 'lat', 'common', 'brought', 'sci', 'necess', 'both', 'is', 'chapt', 'thi', 'perceiv', 'biolog', 'and', 'was', 'follow', 'ev', 'al', 'much', 'system', 'mov', 'sea', 'wil', 'they', 'indulg', 'hum', 'that', 'day', 'monu', 'org', 'of', 'mat', 'knowledg', 'rel', 'a', 'limit']\n"
     ]
    }
   ],
   "source": [
    "for i in  SetWords:\n",
    "    stemmer[\"Lancaster\"].append(Lancaster.stem(i))\n",
    "print (stemmer[\"Lancaster\"])"
   ]
  },
  {
   "cell_type": "code",
   "execution_count": 31,
   "metadata": {},
   "outputs": [],
   "source": [
    "Snowball = SnowballStemmer( 'english')\n"
   ]
  },
  {
   "cell_type": "code",
   "execution_count": 32,
   "metadata": {},
   "outputs": [
    {
     "name": "stdout",
     "output_type": "stream",
     "text": [
      "['progress', 'between', 'includ', 'nomenclatur', 'plant', 'to', 'life', 'some', 'also', 'differ', 'earli', 'on', 'deifi', 'cultur', 'biodivers', 'i', 'chapter', 'anthropocentr', 'conserv', 'amaz', 'or', 'easili', '(', 'such', 'system', 'from', ',', 'biggest', 'man', 'fear', 'are', 'plant', 'evok', 'societi', 'among', 'view', 'divers', 'an', 'anim', 'compris', 'descript', 'form', 'process', 'in', '4', 'other', 'anim', 'world', 'be', 'off', 'began', 'revel', 'studi', 'live', 'histori', 'could', 'taxonomistвђ™', '2019-2020', '.', 'unit', 'featur', 'for', 'the', 'anim', 'get', 'similar', 'humbl', '3', 'classif', 'perspect', 'object', 'recognit', 'out', 'kingdom', 'spin', 'vertic', 'sens', '2', 'etc', 'which', 'share', '1', 'identif', 'each', 'horizont', 'led', 'earth', 'inanim', 'fire', 'wind', 'biolog', 'awe', 'regist', ')', 'detail', 'live', 'you', 'present', 'later', 'common', 'brought', 'scienc', 'necess', 'both', 'is', 'chapter', 'this', 'perceiv', 'biolog', 'and', 'was', 'follow', 'ever', 'all', 'much', 'systemat', 'movement', 'sea', 'will', 'they', 'indulg', 'human', 'that', 'day', 'monument', 'organ', 'of', 'matter', 'knowledg', 'relat', 'a', 'limit']\n"
     ]
    }
   ],
   "source": [
    "for i in  SetWords:\n",
    "    stemmer[\"Snowball\"].append(Snowball.stem(i))\n",
    "print (stemmer[\"Snowball\"])"
   ]
  },
  {
   "cell_type": "code",
   "execution_count": 33,
   "metadata": {},
   "outputs": [
    {
     "name": "stdout",
     "output_type": "stream",
     "text": [
      "          Porter Lancaster     Snowball\n",
      "0       progress  progress     progress\n",
      "1        between   between      between\n",
      "2         includ    includ       includ\n",
      "3    nomenclatur    nomenc  nomenclatur\n",
      "4          plant     plant        plant\n",
      "..           ...       ...          ...\n",
      "127       matter       mat       matter\n",
      "128     knowledg  knowledg     knowledg\n",
      "129        relat       rel        relat\n",
      "130            a         a            a\n",
      "131        limit     limit        limit\n",
      "\n",
      "[132 rows x 3 columns]\n"
     ]
    }
   ],
   "source": [
    "df = pd.DataFrame(stemmer, columns = ['Porter','Lancaster','Snowball'])\n",
    "\n",
    "print (df)"
   ]
  },
  {
   "cell_type": "code",
   "execution_count": 34,
   "metadata": {},
   "outputs": [],
   "source": [
    "from nltk.probability import FreqDist"
   ]
  },
  {
   "cell_type": "code",
   "execution_count": 35,
   "metadata": {},
   "outputs": [],
   "source": [
    "Words = word_tokenize(str)\n",
    "wordFreq = FreqDist(Words)"
   ]
  },
  {
   "cell_type": "code",
   "execution_count": 36,
   "metadata": {},
   "outputs": [
    {
     "name": "stdout",
     "output_type": "stream",
     "text": [
      "<FreqDist with 132 samples and 251 outcomes>\n"
     ]
    }
   ],
   "source": [
    "print(wordFreq)"
   ]
  },
  {
   "cell_type": "code",
   "execution_count": 37,
   "metadata": {},
   "outputs": [],
   "source": [
    "CommonWords = wordFreq.most_common(10)"
   ]
  },
  {
   "cell_type": "code",
   "execution_count": 38,
   "metadata": {},
   "outputs": [
    {
     "name": "stdout",
     "output_type": "stream",
     "text": [
      "[('of', 17), ('the', 13), ('.', 12), ('and', 11), ('living', 9), (',', 9), ('in', 6), ('organisms', 6), ('chapter', 4), ('a', 4)]\n"
     ]
    }
   ],
   "source": [
    "print(CommonWords)"
   ]
  },
  {
   "cell_type": "code",
   "execution_count": 39,
   "metadata": {},
   "outputs": [
    {
     "data": {
      "image/png": "[encoded data removed]",
      "text/plain": [
       "<Figure size 432x288 with 1 Axes>"
      ]
     },
     "metadata": {
      "needs_background": "light"
     },
     "output_type": "display_data"
    },
    {
     "data": {
      "text/plain": [
       "<matplotlib.axes._subplots.AxesSubplot at 0x29da59a6988>"
      ]
     },
     "execution_count": 39,
     "metadata": {},
     "output_type": "execute_result"
    }
   ],
   "source": [
    "wordFreq.plot(30,cumulative=False)"
   ]
  },
  {
   "cell_type": "code",
   "execution_count": 40,
   "metadata": {},
   "outputs": [],
   "source": [
    "happax = FreqDist.hapaxes(wordFreq)"
   ]
  },
  {
   "cell_type": "code",
   "execution_count": 41,
   "metadata": {},
   "outputs": [
    {
     "name": "stdout",
     "output_type": "stream",
     "text": [
      "['1', '2', '3', 'plant', '4', 'animal', 'i', 'is', 'science', 'processes', 'comprises', 'an', 'amazing', 'easily', 'perceive', 'difference', 'between', 'deified', '(', 'wind', 'sea', 'fire', 'etc', ')', 'common', 'feature', 'animate', 'objects', 'sense', 'awe', 'or', 'fear', 'they', 'evoked', 'beings', 'began', 'much', 'later', 'history', 'societies', 'indulged', 'anthropocentric', 'view', 'register', 'limited', 'progress', 'knowledge', 'systematic', 'monumental', 'brought', 'out', 'necessity', 'detailed', 'systems', 'identification', 'nomenclature', 'biggest', 'spin', 'off', 'studies', 'recognition', 'sharing', 'similarities', 'both', 'horizontally', 'vertically', 'present', 'day', 'are', 'related', 'each', 'other', 'also', 'ever', 'lived', 'on', 'earth', 'revelation', 'humbled', 'led', 'cultural', 'movements', 'for', 'conservation', 'biodiversity', 'following', 'chapters', 'you', 'will', 'get', 'from', 'taxonomistвђ™s', 'perspective', '2019-2020']\n"
     ]
    }
   ],
   "source": [
    "print(happax)"
   ]
  },
  {
   "cell_type": "code",
   "execution_count": 42,
   "metadata": {},
   "outputs": [
    {
     "name": "stdout",
     "output_type": "stream",
     "text": [
      "<FreqDist with 132 samples and 251 outcomes>\n"
     ]
    }
   ],
   "source": [
    "print(wordFreq)"
   ]
  },
  {
   "cell_type": "code",
   "execution_count": 43,
   "metadata": {},
   "outputs": [],
   "source": [
    "SetWords = set(Words)"
   ]
  },
  {
   "cell_type": "code",
   "execution_count": 44,
   "metadata": {},
   "outputs": [],
   "source": [
    "SetHapax = set(happax)"
   ]
  },
  {
   "cell_type": "code",
   "execution_count": 45,
   "metadata": {},
   "outputs": [
    {
     "name": "stdout",
     "output_type": "stream",
     "text": [
      "['chapter', 'the', 'living', 'world', 'chapter', 'biological', 'classification', 'chapter', 'kingdom', 'chapter', 'kingdom', 'unit', 'diversity', 'in', 'the', 'living', 'world', 'biology', 'the', 'of', 'life', 'forms', 'and', 'living', '.', 'the', 'living', 'world', 'diversity', 'of', 'living', 'organisms', '.', 'early', 'man', 'could', 'the', 'inanimate', 'matter', 'and', 'living', 'organisms', '.', 'early', 'man', 'some', 'of', 'the', 'inanimate', 'matter', ',', ',', '.', 'and', 'some', 'among', 'the', 'animals', 'and', 'plants', '.', 'a', 'of', 'all', 'such', 'forms', 'of', 'inanimate', 'and', 'was', 'the', 'of', 'that', '.', 'the', 'description', 'of', 'living', 'organisms', 'including', 'human', 'in', 'human', '.', 'which', 'in', 'of', 'biology', 'could', 'in', 'biological', '.', 'and', 'description', 'of', 'life', 'forms', 'in', ',', 'of', ',', 'of', ',', 'and', 'classification', '.', 'the', 'of', 'such', 'was', 'the', 'of', 'the', 'of', 'among', 'living', 'organisms', 'and', '.', 'that', 'all', 'living', 'organisms', 'to', 'and', 'to', 'all', 'organisms', 'that', 'this', ',', 'was', 'a', 'which', 'man', 'and', 'to', 'of', '.', 'in', 'the', 'of', 'this', 'unit', ',', 'a', 'description', ',', 'including', 'classification', ',', 'of', 'animals', 'and', 'plants', 'a', '.']\n"
     ]
    }
   ],
   "source": [
    "wordsWithoutHapax = [w for w in Words if not w in happax]\n",
    "print(wordsWithoutHapax)"
   ]
  },
  {
   "cell_type": "code",
   "execution_count": 46,
   "metadata": {},
   "outputs": [],
   "source": [
    "wordsWithoutHapaxFreq = FreqDist(wordsWithoutHapax)"
   ]
  },
  {
   "cell_type": "code",
   "execution_count": 47,
   "metadata": {},
   "outputs": [
    {
     "data": {
      "image/png": "[encoded data removed]",
      "text/plain": [
       "<Figure size 432x288 with 1 Axes>"
      ]
     },
     "metadata": {
      "needs_background": "light"
     },
     "output_type": "display_data"
    },
    {
     "data": {
      "text/plain": [
       "<matplotlib.axes._subplots.AxesSubplot at 0x29da65b0108>"
      ]
     },
     "execution_count": 47,
     "metadata": {},
     "output_type": "execute_result"
    }
   ],
   "source": [
    "wordsWithoutHapaxFreq.plot(30,cumulative=False)"
   ]
  },
  {
   "cell_type": "code",
   "execution_count": 49,
   "metadata": {},
   "outputs": [
    {
     "name": "stderr",
     "output_type": "stream",
     "text": [
      "[nltk_data] Error loading mexnet_no_chunker: Package\n",
      "[nltk_data]     'mexnet_no_chunker' not found in index\n"
     ]
    },
    {
     "data": {
      "text/plain": [
       "False"
      ]
     },
     "execution_count": 49,
     "metadata": {},
     "output_type": "execute_result"
    }
   ],
   "source": [
    "nltk.download('mexnet_no_chunker')"
   ]
  },
  {
   "cell_type": "code",
   "execution_count": 50,
   "metadata": {},
   "outputs": [
    {
     "name": "stderr",
     "output_type": "stream",
     "text": [
      "[nltk_data] Downloading package averaged_perceptron_tagger to\n",
      "[nltk_data]     C:\\Users\\Msi\\AppData\\Roaming\\nltk_data...\n",
      "[nltk_data]   Unzipping taggers\\averaged_perceptron_tagger.zip.\n"
     ]
    },
    {
     "data": {
      "text/plain": [
       "True"
      ]
     },
     "execution_count": 50,
     "metadata": {},
     "output_type": "execute_result"
    }
   ],
   "source": [
    "nltk.download('averaged_perceptron_tagger')"
   ]
  },
  {
   "cell_type": "code",
   "execution_count": 51,
   "metadata": {},
   "outputs": [
    {
     "ename": "NameError",
     "evalue": "name 'pos_tag' is not defined",
     "output_type": "error",
     "traceback": [
      "\u001b[1;31m---------------------------------------------------------------------------\u001b[0m",
      "\u001b[1;31mNameError\u001b[0m                                 Traceback (most recent call last)",
      "\u001b[1;32m<ipython-input-51-914ace752b8c>\u001b[0m in \u001b[0;36m<module>\u001b[1;34m\u001b[0m\n\u001b[1;32m----> 1\u001b[1;33m \u001b[0mpos\u001b[0m \u001b[1;33m=\u001b[0m  \u001b[0mpos_tag\u001b[0m\u001b[1;33m(\u001b[0m\u001b[0mword_tokenize\u001b[0m\u001b[1;33m(\u001b[0m\u001b[0mstr\u001b[0m\u001b[1;33m)\u001b[0m\u001b[1;33m)\u001b[0m\u001b[1;33m\u001b[0m\u001b[1;33m\u001b[0m\u001b[0m\n\u001b[0m",
      "\u001b[1;31mNameError\u001b[0m: name 'pos_tag' is not defined"
     ]
    }
   ],
   "source": [
    "pos =  pos_tag(word_tokenize(str))"
   ]
  },
  {
   "cell_type": "code",
   "execution_count": 52,
   "metadata": {},
   "outputs": [
    {
     "ename": "SyntaxError",
     "evalue": "invalid syntax (<ipython-input-52-4733312f6c3a>, line 1)",
     "output_type": "error",
     "traceback": [
      "\u001b[1;36m  File \u001b[1;32m\"<ipython-input-52-4733312f6c3a>\"\u001b[1;36m, line \u001b[1;32m1\u001b[0m\n\u001b[1;33m    from nltk import pos tag\u001b[0m\n\u001b[1;37m                           ^\u001b[0m\n\u001b[1;31mSyntaxError\u001b[0m\u001b[1;31m:\u001b[0m invalid syntax\n"
     ]
    }
   ],
   "source": [
    "from nltk import pos tag"
   ]
  },
  {
   "cell_type": "code",
   "execution_count": 53,
   "metadata": {},
   "outputs": [],
   "source": [
    "from nltk import pos_tag\n"
   ]
  },
  {
   "cell_type": "code",
   "execution_count": 54,
   "metadata": {},
   "outputs": [],
   "source": [
    "pos =  pos_tag(word_tokenize(str))"
   ]
  },
  {
   "cell_type": "code",
   "execution_count": 55,
   "metadata": {},
   "outputs": [
    {
     "name": "stdout",
     "output_type": "stream",
     "text": [
      "[('chapter', 'NN'), ('1', 'CD'), ('the', 'DT'), ('living', 'NN'), ('world', 'NN'), ('chapter', 'NN'), ('2', 'CD'), ('biological', 'JJ'), ('classification', 'NN'), ('chapter', 'NN'), ('3', 'CD'), ('plant', 'NN'), ('kingdom', 'NN'), ('chapter', 'NN'), ('4', 'CD'), ('animal', 'JJ'), ('kingdom', 'NN'), ('unit', 'NN'), ('i', 'JJ'), ('diversity', 'NN'), ('in', 'IN'), ('the', 'DT'), ('living', 'NN'), ('world', 'NN'), ('biology', 'NN'), ('is', 'VBZ'), ('the', 'DT'), ('science', 'NN'), ('of', 'IN'), ('life', 'NN'), ('forms', 'NNS'), ('and', 'CC'), ('living', 'NN'), ('processes', 'NNS'), ('.', '.'), ('the', 'DT'), ('living', 'NN'), ('world', 'NN'), ('comprises', 'VBZ'), ('an', 'DT'), ('amazing', 'JJ'), ('diversity', 'NN'), ('of', 'IN'), ('living', 'NN'), ('organisms', 'NNS'), ('.', '.'), ('early', 'JJ'), ('man', 'NN'), ('could', 'MD'), ('easily', 'RB'), ('perceive', 'VB'), ('the', 'DT'), ('difference', 'NN'), ('between', 'IN'), ('inanimate', 'JJ'), ('matter', 'NN'), ('and', 'CC'), ('living', 'VBG'), ('organisms', 'NNS'), ('.', '.'), ('early', 'JJ'), ('man', 'NN'), ('deified', 'VBD'), ('some', 'DT'), ('of', 'IN'), ('the', 'DT'), ('inanimate', 'JJ'), ('matter', 'NN'), ('(', '('), ('wind', 'NN'), (',', ','), ('sea', 'NN'), (',', ','), ('fire', 'NN'), ('etc', 'NN'), ('.', '.'), (')', ')'), ('and', 'CC'), ('some', 'DT'), ('among', 'IN'), ('the', 'DT'), ('animals', 'NNS'), ('and', 'CC'), ('plants', 'NNS'), ('.', '.'), ('a', 'DT'), ('common', 'JJ'), ('feature', 'NN'), ('of', 'IN'), ('all', 'DT'), ('such', 'JJ'), ('forms', 'NNS'), ('of', 'IN'), ('inanimate', 'NN'), ('and', 'CC'), ('animate', 'JJ'), ('objects', 'NNS'), ('was', 'VBD'), ('the', 'DT'), ('sense', 'NN'), ('of', 'IN'), ('awe', 'NN'), ('or', 'CC'), ('fear', 'NN'), ('that', 'IN'), ('they', 'PRP'), ('evoked', 'VBD'), ('.', '.'), ('the', 'DT'), ('description', 'NN'), ('of', 'IN'), ('living', 'NN'), ('organisms', 'NNS'), ('including', 'VBG'), ('human', 'JJ'), ('beings', 'NNS'), ('began', 'VBD'), ('much', 'RB'), ('later', 'RBR'), ('in', 'IN'), ('human', 'JJ'), ('history', 'NN'), ('.', '.'), ('societies', 'NNS'), ('which', 'WDT'), ('indulged', 'VBD'), ('in', 'IN'), ('anthropocentric', 'JJ'), ('view', 'NN'), ('of', 'IN'), ('biology', 'NN'), ('could', 'MD'), ('register', 'VB'), ('limited', 'JJ'), ('progress', 'NN'), ('in', 'IN'), ('biological', 'JJ'), ('knowledge', 'NN'), ('.', '.'), ('systematic', 'JJ'), ('and', 'CC'), ('monumental', 'JJ'), ('description', 'NN'), ('of', 'IN'), ('life', 'NN'), ('forms', 'NNS'), ('brought', 'VBN'), ('in', 'IN'), (',', ','), ('out', 'IN'), ('of', 'IN'), ('necessity', 'NN'), (',', ','), ('detailed', 'JJ'), ('systems', 'NNS'), ('of', 'IN'), ('identification', 'NN'), (',', ','), ('nomenclature', 'NN'), ('and', 'CC'), ('classification', 'NN'), ('.', '.'), ('the', 'DT'), ('biggest', 'JJS'), ('spin', 'NN'), ('off', 'IN'), ('of', 'IN'), ('such', 'JJ'), ('studies', 'NNS'), ('was', 'VBD'), ('the', 'DT'), ('recognition', 'NN'), ('of', 'IN'), ('the', 'DT'), ('sharing', 'NN'), ('of', 'IN'), ('similarities', 'NNS'), ('among', 'IN'), ('living', 'NN'), ('organisms', 'NNS'), ('both', 'DT'), ('horizontally', 'RB'), ('and', 'CC'), ('vertically', 'RB'), ('.', '.'), ('that', 'IN'), ('all', 'DT'), ('present', 'JJ'), ('day', 'NN'), ('living', 'NN'), ('organisms', 'NNS'), ('are', 'VBP'), ('related', 'VBN'), ('to', 'TO'), ('each', 'DT'), ('other', 'JJ'), ('and', 'CC'), ('also', 'RB'), ('to', 'TO'), ('all', 'DT'), ('organisms', 'NNS'), ('that', 'IN'), ('ever', 'RB'), ('lived', 'VBD'), ('on', 'IN'), ('this', 'DT'), ('earth', 'NN'), (',', ','), ('was', 'VBD'), ('a', 'DT'), ('revelation', 'NN'), ('which', 'WDT'), ('humbled', 'VBD'), ('man', 'NN'), ('and', 'CC'), ('led', 'VBD'), ('to', 'TO'), ('cultural', 'JJ'), ('movements', 'NNS'), ('for', 'IN'), ('conservation', 'NN'), ('of', 'IN'), ('biodiversity', 'NN'), ('.', '.'), ('in', 'IN'), ('the', 'DT'), ('following', 'JJ'), ('chapters', 'NNS'), ('of', 'IN'), ('this', 'DT'), ('unit', 'NN'), (',', ','), ('you', 'PRP'), ('will', 'MD'), ('get', 'VB'), ('a', 'DT'), ('description', 'NN'), (',', ','), ('including', 'VBG'), ('classification', 'NN'), (',', ','), ('of', 'IN'), ('animals', 'NNS'), ('and', 'CC'), ('plants', 'NNS'), ('from', 'IN'), ('a', 'DT'), ('taxonomistвђ™s', 'JJ'), ('perspective', 'NN'), ('.', '.'), ('2019-2020', 'JJ')]\n"
     ]
    }
   ],
   "source": [
    "print (pos)"
   ]
  },
  {
   "cell_type": "code",
   "execution_count": 56,
   "metadata": {},
   "outputs": [
    {
     "ename": "NameError",
     "evalue": "name 'ty' is not defined",
     "output_type": "error",
     "traceback": [
      "\u001b[1;31m---------------------------------------------------------------------------\u001b[0m",
      "\u001b[1;31mNameError\u001b[0m                                 Traceback (most recent call last)",
      "\u001b[1;32m<ipython-input-56-e3168661edd0>\u001b[0m in \u001b[0;36m<module>\u001b[1;34m\u001b[0m\n\u001b[1;32m----> 1\u001b[1;33m \u001b[0mty\u001b[0m\u001b[1;33m\u001b[0m\u001b[1;33m\u001b[0m\u001b[0m\n\u001b[0m\u001b[0;32m      2\u001b[0m \u001b[0msortare\u001b[0m \u001b[1;33m=\u001b[0m \u001b[0msorted\u001b[0m\u001b[1;33m(\u001b[0m\u001b[0mpos\u001b[0m\u001b[1;33m)\u001b[0m\u001b[1;33m\u001b[0m\u001b[1;33m\u001b[0m\u001b[0m\n",
      "\u001b[1;31mNameError\u001b[0m: name 'ty' is not defined"
     ]
    }
   ],
   "source": [
    "ty\n",
    "sortare = sorted(pos)"
   ]
  },
  {
   "cell_type": "code",
   "execution_count": 57,
   "metadata": {},
   "outputs": [],
   "source": [
    "sortare = sorted(pos)"
   ]
  },
  {
   "cell_type": "code",
   "execution_count": 58,
   "metadata": {},
   "outputs": [
    {
     "name": "stdout",
     "output_type": "stream",
     "text": [
      "[('(', '('), (')', ')'), (',', ','), (',', ','), (',', ','), (',', ','), (',', ','), (',', ','), (',', ','), (',', ','), (',', ','), ('.', '.'), ('.', '.'), ('.', '.'), ('.', '.'), ('.', '.'), ('.', '.'), ('.', '.'), ('.', '.'), ('.', '.'), ('.', '.'), ('.', '.'), ('.', '.'), ('1', 'CD'), ('2', 'CD'), ('2019-2020', 'JJ'), ('3', 'CD'), ('4', 'CD'), ('a', 'DT'), ('a', 'DT'), ('a', 'DT'), ('a', 'DT'), ('all', 'DT'), ('all', 'DT'), ('all', 'DT'), ('also', 'RB'), ('amazing', 'JJ'), ('among', 'IN'), ('among', 'IN'), ('an', 'DT'), ('and', 'CC'), ('and', 'CC'), ('and', 'CC'), ('and', 'CC'), ('and', 'CC'), ('and', 'CC'), ('and', 'CC'), ('and', 'CC'), ('and', 'CC'), ('and', 'CC'), ('and', 'CC'), ('animal', 'JJ'), ('animals', 'NNS'), ('animals', 'NNS'), ('animate', 'JJ'), ('anthropocentric', 'JJ'), ('are', 'VBP'), ('awe', 'NN'), ('began', 'VBD'), ('beings', 'NNS'), ('between', 'IN'), ('biggest', 'JJS'), ('biodiversity', 'NN'), ('biological', 'JJ'), ('biological', 'JJ'), ('biology', 'NN'), ('biology', 'NN'), ('both', 'DT'), ('brought', 'VBN'), ('chapter', 'NN'), ('chapter', 'NN'), ('chapter', 'NN'), ('chapter', 'NN'), ('chapters', 'NNS'), ('classification', 'NN'), ('classification', 'NN'), ('classification', 'NN'), ('common', 'JJ'), ('comprises', 'VBZ'), ('conservation', 'NN'), ('could', 'MD'), ('could', 'MD'), ('cultural', 'JJ'), ('day', 'NN'), ('deified', 'VBD'), ('description', 'NN'), ('description', 'NN'), ('description', 'NN'), ('detailed', 'JJ'), ('difference', 'NN'), ('diversity', 'NN'), ('diversity', 'NN'), ('each', 'DT'), ('early', 'JJ'), ('early', 'JJ'), ('earth', 'NN'), ('easily', 'RB'), ('etc', 'NN'), ('ever', 'RB'), ('evoked', 'VBD'), ('fear', 'NN'), ('feature', 'NN'), ('fire', 'NN'), ('following', 'JJ'), ('for', 'IN'), ('forms', 'NNS'), ('forms', 'NNS'), ('forms', 'NNS'), ('from', 'IN'), ('get', 'VB'), ('history', 'NN'), ('horizontally', 'RB'), ('human', 'JJ'), ('human', 'JJ'), ('humbled', 'VBD'), ('i', 'JJ'), ('identification', 'NN'), ('in', 'IN'), ('in', 'IN'), ('in', 'IN'), ('in', 'IN'), ('in', 'IN'), ('in', 'IN'), ('inanimate', 'JJ'), ('inanimate', 'JJ'), ('inanimate', 'NN'), ('including', 'VBG'), ('including', 'VBG'), ('indulged', 'VBD'), ('is', 'VBZ'), ('kingdom', 'NN'), ('kingdom', 'NN'), ('knowledge', 'NN'), ('later', 'RBR'), ('led', 'VBD'), ('life', 'NN'), ('life', 'NN'), ('limited', 'JJ'), ('lived', 'VBD'), ('living', 'NN'), ('living', 'NN'), ('living', 'NN'), ('living', 'NN'), ('living', 'NN'), ('living', 'NN'), ('living', 'NN'), ('living', 'NN'), ('living', 'VBG'), ('man', 'NN'), ('man', 'NN'), ('man', 'NN'), ('matter', 'NN'), ('matter', 'NN'), ('monumental', 'JJ'), ('movements', 'NNS'), ('much', 'RB'), ('necessity', 'NN'), ('nomenclature', 'NN'), ('objects', 'NNS'), ('of', 'IN'), ('of', 'IN'), ('of', 'IN'), ('of', 'IN'), ('of', 'IN'), ('of', 'IN'), ('of', 'IN'), ('of', 'IN'), ('of', 'IN'), ('of', 'IN'), ('of', 'IN'), ('of', 'IN'), ('of', 'IN'), ('of', 'IN'), ('of', 'IN'), ('of', 'IN'), ('of', 'IN'), ('off', 'IN'), ('on', 'IN'), ('or', 'CC'), ('organisms', 'NNS'), ('organisms', 'NNS'), ('organisms', 'NNS'), ('organisms', 'NNS'), ('organisms', 'NNS'), ('organisms', 'NNS'), ('other', 'JJ'), ('out', 'IN'), ('perceive', 'VB'), ('perspective', 'NN'), ('plant', 'NN'), ('plants', 'NNS'), ('plants', 'NNS'), ('present', 'JJ'), ('processes', 'NNS'), ('progress', 'NN'), ('recognition', 'NN'), ('register', 'VB'), ('related', 'VBN'), ('revelation', 'NN'), ('science', 'NN'), ('sea', 'NN'), ('sense', 'NN'), ('sharing', 'NN'), ('similarities', 'NNS'), ('societies', 'NNS'), ('some', 'DT'), ('some', 'DT'), ('spin', 'NN'), ('studies', 'NNS'), ('such', 'JJ'), ('such', 'JJ'), ('systematic', 'JJ'), ('systems', 'NNS'), ('taxonomistвђ™s', 'JJ'), ('that', 'IN'), ('that', 'IN'), ('that', 'IN'), ('the', 'DT'), ('the', 'DT'), ('the', 'DT'), ('the', 'DT'), ('the', 'DT'), ('the', 'DT'), ('the', 'DT'), ('the', 'DT'), ('the', 'DT'), ('the', 'DT'), ('the', 'DT'), ('the', 'DT'), ('the', 'DT'), ('they', 'PRP'), ('this', 'DT'), ('this', 'DT'), ('to', 'TO'), ('to', 'TO'), ('to', 'TO'), ('unit', 'NN'), ('unit', 'NN'), ('vertically', 'RB'), ('view', 'NN'), ('was', 'VBD'), ('was', 'VBD'), ('was', 'VBD'), ('which', 'WDT'), ('which', 'WDT'), ('will', 'MD'), ('wind', 'NN'), ('world', 'NN'), ('world', 'NN'), ('world', 'NN'), ('you', 'PRP')]\n"
     ]
    }
   ],
   "source": [
    "print(sortare)"
   ]
  },
  {
   "cell_type": "code",
   "execution_count": 59,
   "metadata": {},
   "outputs": [
    {
     "data": {
      "text/plain": [
       "list"
      ]
     },
     "execution_count": 59,
     "metadata": {},
     "output_type": "execute_result"
    }
   ],
   "source": [
    "type (pos)"
   ]
  },
  {
   "cell_type": "code",
   "execution_count": 60,
   "metadata": {},
   "outputs": [],
   "source": []
  },
  {
   "cell_type": "code",
   "execution_count": 69,
   "metadata": {},
   "outputs": [],
   "source": [
    "\n",
    "from collections import Counter\n",
    "counts = Counter(tag for word,tag in pos)\n"
   ]
  },
  {
   "cell_type": "code",
   "execution_count": 70,
   "metadata": {},
   "outputs": [
    {
     "name": "stdout",
     "output_type": "stream",
     "text": [
      "Counter({'NN': 64, 'IN': 34, 'DT': 27, 'JJ': 26, 'NNS': 22, 'CC': 12, '.': 12, 'VBD': 10, ',': 9, 'RB': 6, 'CD': 4, 'MD': 3, 'VB': 3, 'VBG': 3, 'TO': 3, 'VBZ': 2, 'PRP': 2, 'WDT': 2, 'VBN': 2, '(': 1, ')': 1, 'RBR': 1, 'JJS': 1, 'VBP': 1})\n"
     ]
    }
   ],
   "source": [
    "print (counts)"
   ]
  },
  {
   "cell_type": "code",
   "execution_count": null,
   "metadata": {},
   "outputs": [],
   "source": []
  }
 ],
 "metadata": {
  "kernelspec": {
   "display_name": "Python 3",
   "language": "python",
   "name": "python3"
  },
  "language_info": {
   "codemirror_mode": {
    "name": "ipython",
    "version": 3
   },
   "file_extension": ".py",
   "mimetype": "text/x-python",
   "name": "python",
   "nbconvert_exporter": "python",
   "pygments_lexer": "ipython3",
   "version": "3.7.6"
  }
 },
 "nbformat": 4,
 "nbformat_minor": 4
}
